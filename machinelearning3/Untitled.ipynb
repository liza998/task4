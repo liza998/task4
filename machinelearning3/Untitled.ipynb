{
 "cells": [
  {
   "cell_type": "code",
   "execution_count": null,
   "id": "04acb0e5",
   "metadata": {},
   "outputs": [],
   "source": [
    "# reverse a list\n",
    "li = []\n",
    "a = input(\"enter the strings\")\n",
    "a.append(li)\n",
    "\n",
    "def rever(l):\n",
    "    new = []\n",
    "    for i in range(len(l)-1,-1,-1):\n",
    "        new.append(l)\n",
    "print(new)\n",
    "\n",
    "\n",
    "print(rever(li))\n",
    "    \n"
   ]
  },
  {
   "cell_type": "code",
   "execution_count": null,
   "id": "e4694847",
   "metadata": {},
   "outputs": [],
   "source": []
  },
  {
   "cell_type": "code",
   "execution_count": null,
   "id": "1c0541f5",
   "metadata": {},
   "outputs": [],
   "source": []
  }
 ],
 "metadata": {
  "kernelspec": {
   "display_name": "Python 3 (ipykernel)",
   "language": "python",
   "name": "python3"
  },
  "language_info": {
   "codemirror_mode": {
    "name": "ipython",
    "version": 3
   },
   "file_extension": ".py",
   "mimetype": "text/x-python",
   "name": "python",
   "nbconvert_exporter": "python",
   "pygments_lexer": "ipython3",
   "version": "3.10.8"
  }
 },
 "nbformat": 4,
 "nbformat_minor": 5
}
