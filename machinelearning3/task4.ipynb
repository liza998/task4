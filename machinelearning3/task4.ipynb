{
  "nbformat": 4,
  "nbformat_minor": 0,
  "metadata": {
    "colab": {
      "provenance": []
    },
    "kernelspec": {
      "name": "python3",
      "display_name": "Python 3"
    },
    "language_info": {
      "name": "python"
    }
  },
  "cells": [
    {
      "cell_type": "code",
      "source": [
        "#reverse \n",
        "li = []\n",
        "for i in range(5):\n",
        "  a= input(\"enter\")\n",
        "  li.append(a)\n",
        "\n",
        "\n",
        "def rever(l):\n",
        "  new = []\n",
        "  for i in range(len(l)-1,-1,-1):\n",
        "    new.append(l[i])\n",
        "  return new\n",
        "\n",
        "print(rever(li))"
      ],
      "metadata": {
        "colab": {
          "base_uri": "https://localhost:8080/"
        },
        "id": "JlTPuUQzpKkE",
        "outputId": "b6efb00b-773d-42c9-c37c-4633753c120b"
      },
      "execution_count": null,
      "outputs": [
        {
          "output_type": "stream",
          "name": "stdout",
          "text": [
            "enterw\n",
            "entero\n",
            "enterr\n",
            "enterl\n",
            "enterd\n",
            "['d', 'l', 'r', 'o', 'w']\n"
          ]
        }
      ]
    },
    {
      "cell_type": "code",
      "source": [
        "# index wise concatenation\n",
        "\n",
        "list1 = []\n",
        "list2 = []\n",
        "\n",
        "for i in range(4):\n",
        "  a = input(\"enter\")\n",
        "  list1.append(a)\n",
        "for j in range(4):\n",
        "  b = input(\"enter\")\n",
        "  list2.append(b)\n",
        "\n",
        "\n",
        "for i,j in zip(list1,list2):\n",
        "  print(i+j)"
      ],
      "metadata": {
        "colab": {
          "base_uri": "https://localhost:8080/"
        },
        "id": "_0VcG8vBqkeJ",
        "outputId": "c2d87f91-66ec-4c0a-9ae1-92c0fb1b65b7"
      },
      "execution_count": null,
      "outputs": [
        {
          "output_type": "stream",
          "name": "stdout",
          "text": [
            "enterW\n",
            "enterwi\n",
            "enterDre\n",
            "enterb\n",
            "entere\n",
            "enterll\n",
            "enteram\n",
            "enterig\n",
            "We\n",
            "will\n",
            "Dream\n",
            "big\n"
          ]
        }
      ]
    },
    {
      "cell_type": "code",
      "source": [
        "## every elements of list into square\n",
        "num = []\n",
        "\n",
        "for i in range(5):\n",
        "  a = int(input(\"enter\"))\n",
        "  num.append(a)\n",
        "\n",
        "for x in num:\n",
        "  print(\"square of the list is\", x*x)\n",
        "\n",
        "\n"
      ],
      "metadata": {
        "colab": {
          "base_uri": "https://localhost:8080/"
        },
        "id": "JUk4QTDWtNNl",
        "outputId": "f5cfcb15-ed94-44c8-8288-cce4094d8896"
      },
      "execution_count": null,
      "outputs": [
        {
          "output_type": "stream",
          "name": "stdout",
          "text": [
            "enter2\n",
            "enter4\n",
            "enter5\n",
            "enter7\n",
            "enter8\n",
            "square of the list is 4\n",
            "square of the list is 16\n",
            "square of the list is 25\n",
            "square of the list is 49\n",
            "square of the list is 64\n"
          ]
        }
      ]
    },
    {
      "cell_type": "code",
      "source": [
        "\n",
        "## remove empty string from the list\n",
        "l1 = [\"code\", \"\", \"studio\",\"Academy\", \"\"]\n",
        "res = []\n",
        "\n",
        "\n",
        "for i in l1:\n",
        "  if (i):\n",
        "    res.append(i)\n",
        "\n",
        "print(\"original string\", l1)\n",
        "print(\"after removing empty string\", res)\n",
        "\n",
        "\n"
      ],
      "metadata": {
        "colab": {
          "base_uri": "https://localhost:8080/"
        },
        "id": "baxWWBCzuWLN",
        "outputId": "5b98cbe2-773f-44b7-ce02-f18e83d3c8e9"
      },
      "execution_count": 24,
      "outputs": [
        {
          "output_type": "stream",
          "name": "stdout",
          "text": [
            "original string ['code', '', 'studio', 'Academy', '']\n",
            "after removing empty string ['code', 'studio', 'Academy']\n"
          ]
        }
      ]
    },
    {
      "cell_type": "code",
      "source": [
        "## add list element to set using update \n",
        "\n",
        "set1 = {\"Yellow\", \"Orange\", \"Black\"}\n",
        "list1 =[\"Blue\", \"Green\", \"Red\"]\n",
        "\n",
        "set1.update(list1)\n",
        "print(set1)\n"
      ],
      "metadata": {
        "colab": {
          "base_uri": "https://localhost:8080/"
        },
        "id": "m1bAOq-E48x0",
        "outputId": "2b8aec1c-9ec6-4bb8-d334-fd077aa3a5be"
      },
      "execution_count": 28,
      "outputs": [
        {
          "output_type": "stream",
          "name": "stdout",
          "text": [
            "{'Black', 'Blue', 'Red', 'Yellow', 'Orange', 'Green'}\n"
          ]
        }
      ]
    },
    {
      "cell_type": "code",
      "source": [
        "##  convert 2 list into dictionary\n",
        "keys = ['Ten', 'Twenty', 'Thirty']\n",
        "values = [10,20,30]\n",
        "\n",
        "dicto = dict(zip(keys,values))\n",
        "print(dicto)\n"
      ],
      "metadata": {
        "colab": {
          "base_uri": "https://localhost:8080/"
        },
        "id": "5d3q2uJq6l50",
        "outputId": "b1e69e25-1f43-49f9-dc6d-e000ed452878"
      },
      "execution_count": 30,
      "outputs": [
        {
          "output_type": "stream",
          "name": "stdout",
          "text": [
            "{'Ten': 10, 'Twenty': 20, 'Thirty': 30}\n"
          ]
        }
      ]
    },
    {
      "cell_type": "code",
      "source": [
        "##  merge two dictionaries in python\n",
        "\n",
        "dict1 = {'Ten': 10, 'Twenty': 20, 'Thirty': 30}\n",
        "dict2 = {'Thirty': 30, 'Fourty': 40, 'Fifty': 50}\n",
        "d = {}\n",
        "d = dict1.copy()\n",
        "d.update(dict2)\n",
        "print(d)\n"
      ],
      "metadata": {
        "colab": {
          "base_uri": "https://localhost:8080/"
        },
        "id": "pBNMWIFG7ScK",
        "outputId": "9034eca6-4ad3-412a-cc7b-09e3365983db"
      },
      "execution_count": 33,
      "outputs": [
        {
          "output_type": "stream",
          "name": "stdout",
          "text": [
            "{'Ten': 10, 'Twenty': 20, 'Thirty': 30, 'Fourty': 40, 'Fifty': 50}\n"
          ]
        }
      ]
    },
    {
      "cell_type": "code",
      "source": [],
      "metadata": {
        "id": "JhFqQ74_HAPN"
      },
      "execution_count": null,
      "outputs": []
    },
    {
      "cell_type": "code",
      "source": [
        "## another process\n",
        "\n",
        "d1 = {'Ten': 10, 'Twenty': 20, 'Thirty': 30}\n",
        "d2 = {'Thirty': 30, 'Fourty': 40, 'Fifty': 50}\n",
        "d = d1|d2\n",
        "print(d)"
      ],
      "metadata": {
        "colab": {
          "base_uri": "https://localhost:8080/"
        },
        "id": "Nk9-npVd9Dum",
        "outputId": "95cd1b3c-7bd7-4c42-ae2c-087283cbb908"
      },
      "execution_count": 34,
      "outputs": [
        {
          "output_type": "stream",
          "name": "stdout",
          "text": [
            "{'Ten': 10, 'Twenty': 20, 'Thirty': 30, 'Fourty': 40, 'Fifty': 50}\n"
          ]
        }
      ]
    },
    {
      "cell_type": "code",
      "source": [
        "## rename a key of dictionary\n",
        "\n",
        " "
      ],
      "metadata": {
        "id": "RQMyiT1T9dT-"
      },
      "execution_count": null,
      "outputs": []
    },
    {
      "cell_type": "code",
      "source": [
        "## return a set of element present in both  A or B but not both\n",
        "\n",
        "a = {'Rahul','Raj','Sonam', 'Rani'}\n",
        "b = {'Sumit', 'Rahul', 'Rani', 'Python', 'Java'}\n",
        "\n",
        "l = a.difference(b)\n",
        "d = b.difference(a)\n",
        "r = l.copy()\n",
        "r.update(d)\n",
        "\n",
        "print(r)\n",
        "\n"
      ],
      "metadata": {
        "id": "sUUtmRPWvEZk",
        "colab": {
          "base_uri": "https://localhost:8080/"
        },
        "outputId": "f8f1f5cb-399a-4ff9-fba2-3e5d50580ff4"
      },
      "execution_count": 45,
      "outputs": [
        {
          "output_type": "stream",
          "name": "stdout",
          "text": [
            "{'Python', 'Sonam', 'Raj', 'Java', 'Sumit'}\n"
          ]
        }
      ]
    },
    {
      "cell_type": "code",
      "source": [
        "\n",
        "\n",
        "d1 = {'Ten': 10, 'Twenty': 20, 'Thirty': 30}\n",
        "\n",
        "d1['Nine'] = d1['Thirty']\n",
        "\n",
        "del d1['Thirty']\n",
        "\n",
        "print(d1)\n"
      ],
      "metadata": {
        "colab": {
          "base_uri": "https://localhost:8080/"
        },
        "outputId": "2dd61929-2a66-4006-ddfe-9a2df5c8d10c",
        "id": "rj7hqq1lAudv"
      },
      "execution_count": 35,
      "outputs": [
        {
          "output_type": "stream",
          "name": "stdout",
          "text": [
            "{'Ten': 10, 'Twenty': 20, 'Nine': 30}\n"
          ]
        }
      ]
    },
    {
      "cell_type": "code",
      "source": [
        "## sort by tuples\n",
        "\n",
        "\n",
        "\n",
        "my_tuples =(\n",
        "        ('Titanic', 1997),('matrix',1999),\n",
        "        ('skyfall', 2012),('joker',2019),\n",
        "        ('Missionimpossible',1996))\n",
        "\n",
        "print(my_tuples, '\\n')\n",
        "\n",
        "my_tuples = sorted(my_tuples, key = lambda x : x[1])\n",
        "\n",
        "print(my_tuples, '\\n')\n"
      ],
      "metadata": {
        "colab": {
          "base_uri": "https://localhost:8080/"
        },
        "id": "24Z-0fmQCstX",
        "outputId": "e9a4ca4e-d0ce-496a-950e-3310d7e09a8c"
      },
      "execution_count": 40,
      "outputs": [
        {
          "output_type": "stream",
          "name": "stdout",
          "text": [
            "(('Titanic', 1997), ('matrix', 1999), ('skyfall', 2012), ('joker', 2019), ('Missionimpossible', 1996)) \n",
            "\n",
            "[('Missionimpossible', 1996), ('Titanic', 1997), ('matrix', 1999), ('skyfall', 2012), ('joker', 2019)] \n",
            "\n"
          ]
        }
      ]
    }
  ]
}